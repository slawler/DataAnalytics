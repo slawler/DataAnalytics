{
 "cells": [
  {
   "cell_type": "markdown",
   "metadata": {},
   "source": [
    "#### Description: Read and Filter SignalK stream from web socket\n",
    "    Input(s): ip address/web socket info\n",
    "    Output(s): print info to console\n",
    "    @author: slawler\n",
    "    Comments:  Working version for python v3, need to parse source data"
   ]
  },
  {
   "cell_type": "code",
   "execution_count": null,
   "metadata": {
    "collapsed": true
   },
   "outputs": [],
   "source": [
    "import json\n",
    "import websocket\n",
    "import datetime\n",
    "\n",
    "ws = \"ws://demo.signalk.org/signalk/v1/stream?subscribe=all\"\n",
    "stream = websocket.create_connection(ws)\n",
    "          \n",
    "#--------Cycle Through streaming data-------#\n",
    " \n",
    "#while stream.connected == True\n",
    "for _ in range(30):\n",
    "    try:\n",
    "        rcvd = stream.recv()\n",
    "        jdata= json.loads(rcvd)\n",
    "        #jlog.write(str(jdata)+'\\n')\n",
    "    except(KeyboardInterrupt, SystemExit):\n",
    "        print(\"Terminate Test\")\n",
    "        break\n",
    "#--------Filter & Write data to logs-------#\n",
    "    try:\n",
    "        source = jdata['updates'][0]['source']\n",
    "        table  = jdata['updates'][0]['values'][0]['path'].split('.')[0]\n",
    "        variables = jdata['updates'][0]['values']\n",
    "        \n",
    "        for i, v in enumerate(variables):                \n",
    "            keys = v.keys()\n",
    "            \n",
    "            for key in keys:\n",
    "                data = variables[i][key]\n",
    "                \n",
    "                if isinstance(data,str):                \n",
    "                    dtype = ''.join(data.split('.')[1:])                 \n",
    "\n",
    "                elif isinstance(data, dict):\n",
    "                    dkeys = data.keys()\n",
    "                    \n",
    "                    for k in dkeys:\n",
    "                        datagroup = ''.join(str(variables[i]['path']).split('.')[1:])\n",
    "                        dtype = datagroup + k\n",
    "                        value = variables[i][key][k]                        \n",
    "                        dtm = str(datetime.datetime.now())\n",
    "                        log_entry = '{}\\t{}\\t{}\\n'.format(dtm,dtype,str(value))\n",
    "                        #log.write(log_entry)\n",
    "                        print(\"logged: {}: {}\".format(table,source))\n",
    "                        \n",
    "                else:\n",
    "                    dtm, value = str(datetime.datetime.now()), data\n",
    "                    log_entry = '{}\\t{}\\t{}\\n'.format(dtm,dtype,str(value))\n",
    "                    #log.write(log_entry)\n",
    "                    print(\"logged: {}: {}\".format(table,source))\n",
    "                    \n",
    "    except:\n",
    "        print('ERROR\\t\\t', jdata,'\\n')\n",
    "        continue"
   ]
  },
  {
   "cell_type": "code",
   "execution_count": null,
   "metadata": {
    "collapsed": true
   },
   "outputs": [],
   "source": []
  }
 ],
 "metadata": {
  "kernelspec": {
   "display_name": "Python [default]",
   "language": "python",
   "name": "python3"
  },
  "language_info": {
   "codemirror_mode": {
    "name": "ipython",
    "version": 3
   },
   "file_extension": ".py",
   "mimetype": "text/x-python",
   "name": "python",
   "nbconvert_exporter": "python",
   "pygments_lexer": "ipython3",
   "version": "3.5.2"
  }
 },
 "nbformat": 4,
 "nbformat_minor": 1
}
