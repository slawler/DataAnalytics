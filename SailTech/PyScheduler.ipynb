{
 "cells": [
  {
   "cell_type": "markdown",
   "metadata": {},
   "source": [
    "### Test"
   ]
  },
  {
   "cell_type": "code",
   "execution_count": 2,
   "metadata": {
    "collapsed": true
   },
   "outputs": [],
   "source": [
    "#---Load Modules\n",
    "from datetime import datetime \n",
    "import time\n",
    "import schedule\n",
    "import os\n",
    "import subprocess\n",
    "import random #--For testing only, remove for implementation"
   ]
  },
  {
   "cell_type": "code",
   "execution_count": 5,
   "metadata": {
    "collapsed": false
   },
   "outputs": [
    {
     "name": "stdout",
     "output_type": "stream",
     "text": [
      "Time: 06.2016.11 17:02:15, Temperature (F): 55.84\n",
      "Time: 06.2016.11 17:02:20, Temperature (F): 59.33\n",
      "Update Log\n",
      "Time: 06.2016.11 17:02:25, Temperature (F): 53.21\n",
      "Time: 06.2016.11 17:02:30, Temperature (F): 56.95\n",
      "Time: 06.2016.11 17:02:35, Temperature (F): 50.04\n",
      "Update Log\n",
      "Time: 06.2016.11 17:02:40, Temperature (F): 56.04\n",
      "Time: 06.2016.11 17:02:45, Temperature (F): 53.92\n",
      "Time: 06.2016.11 17:02:50, Temperature (F): 51.93\n",
      "Update Log\n",
      "Time: 06.2016.11 17:02:55, Temperature (F): 54.28\n",
      "Time: 06.2016.11 17:03:00, Temperature (F): 53.51\n",
      "Time: 06.2016.11 17:03:05, Temperature (F): 50.14\n",
      "Update Log\n",
      "Time: 06.2016.11 17:03:10, Temperature (F): 58.11\n",
      "Time: 06.2016.11 17:03:15, Temperature (F): 53.99\n",
      "Time: 06.2016.11 17:03:20, Temperature (F): 54.65\n",
      "Update Log\n",
      "Time: 06.2016.11 17:03:25, Temperature (F): 59.83\n",
      "Time: 06.2016.11 17:03:30, Temperature (F): 52.47\n",
      "Time: 06.2016.11 17:03:35, Temperature (F): 51.73\n",
      "Update Log\n",
      "Time: 06.2016.11 17:03:40, Temperature (F): 59.22\n",
      "Time: 06.2016.11 17:03:45, Temperature (F): 59.83\n",
      "Time: 06.2016.11 17:03:50, Temperature (F): 51.23\n",
      "Update Log\n",
      "Time: 06.2016.11 17:03:55, Temperature (F): 59.64\n",
      "Time: 06.2016.11 17:04:00, Temperature (F): 59.09\n",
      "Time: 06.2016.11 17:04:05, Temperature (F): 50.67\n",
      "Update Log\n",
      "Time: 06.2016.11 17:04:10, Temperature (F): 55.25\n",
      "Time: 06.2016.11 17:04:15, Temperature (F): 59.87\n",
      "Time: 06.2016.11 17:04:20, Temperature (F): 50.74\n",
      "Update Log\n",
      "Time: 06.2016.11 17:04:25, Temperature (F): 58.03\n",
      "Time: 06.2016.11 17:04:30, Temperature (F): 53.12\n",
      "Time: 06.2016.11 17:04:35, Temperature (F): 55.44\n",
      "Update Log\n",
      "Time: 06.2016.11 17:04:40, Temperature (F): 55.57\n",
      "Time: 06.2016.11 17:04:45, Temperature (F): 52.57\n",
      "Time: 06.2016.11 17:04:50, Temperature (F): 57.23\n",
      "Update Log\n",
      "Time: 06.2016.11 17:04:55, Temperature (F): 53.24\n",
      "Time: 06.2016.11 17:05:00, Temperature (F): 50.08\n",
      "Time: 06.2016.11 17:05:05, Temperature (F): 52.04\n",
      "Process Terminated\n"
     ]
    }
   ],
   "source": [
    "#---Assign directory & filename\n",
    "log_dir = '/home/slawler'\n",
    "log_file = 'Temperature.log'\n",
    "log = os.path.join(log_dir,log_file)\n",
    "\n",
    "#---Set Parameters\n",
    "sample_rate = 5      #seconds\n",
    "log_update_rate = 15 #seconds\n",
    "\n",
    "#---Delete all scheduled jobs\n",
    "schedule.clear()\n",
    "\n",
    "#---Placeholder for Sampling funciton. \n",
    "def job1():\n",
    "    dtm  = datetime.now().strftime(format = '%d.%Y.%m %H:%M:%S')\n",
    "    temp = round(random.uniform(50,60),2)\n",
    "    with open(log,'a') as f: \n",
    "        f.write(dtm + '\\t' + str(temp) + '\\n')   \n",
    "    print(\"Time: {0}, Temperature (F): {1}\".format(dtm, temp))\n",
    "\n",
    "#---Placeholder for Logging funciton.    \n",
    "def job2():\n",
    "    print(\"Update Log\")\n",
    "    return('') \n",
    "\n",
    "#---Initialize Scheduler to call jobs\n",
    "schedule.every(sample_rate).seconds.do(job1)\n",
    "\n",
    "schedule.every(log_update_rate).seconds.do(job2)\n",
    "\n",
    "#---Run Jobs\n",
    "while True:\n",
    "    try:\n",
    "        schedule.run_pending()\n",
    "        time.sleep(1)\n",
    "    except KeyboardInterrupt:\n",
    "        print('Process Terminated')\n",
    "        break"
   ]
  }
 ],
 "metadata": {
  "anaconda-cloud": {},
  "kernelspec": {
   "display_name": "Python [default]",
   "language": "python",
   "name": "python3"
  },
  "language_info": {
   "codemirror_mode": {
    "name": "ipython",
    "version": 3
   },
   "file_extension": ".py",
   "mimetype": "text/x-python",
   "name": "python",
   "nbconvert_exporter": "python",
   "pygments_lexer": "ipython3",
   "version": "3.5.2"
  }
 },
 "nbformat": 4,
 "nbformat_minor": 1
}
