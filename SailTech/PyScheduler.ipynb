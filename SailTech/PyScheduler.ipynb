{
 "cells": [
  {
   "cell_type": "markdown",
   "metadata": {},
   "source": [
    "### Placeholder for Logging Temperatures in Pegasus "
   ]
  },
  {
   "cell_type": "code",
   "execution_count": null,
   "metadata": {
    "collapsed": true
   },
   "outputs": [],
   "source": [
    "#---Load Modules\n",
    "% matplotlib notebook\n",
    "import matplotlib.pyplot as plt\n",
    "import pandas as pd\n",
    "from datetime import datetime \n",
    "import time\n",
    "import schedule\n",
    "import os\n",
    "import subprocess\n",
    "import html5lib\n",
    "import random #--For testing only, remove for implementation"
   ]
  },
  {
   "cell_type": "code",
   "execution_count": null,
   "metadata": {
    "collapsed": false
   },
   "outputs": [],
   "source": [
    "#---Assign directory & filename\n",
    "log_dir = '/home/slawler'\n",
    "log_file = 'Temperature.log'\n",
    "log = os.path.join(log_dir,log_file)\n",
    "\n",
    "#---Set Parameters\n",
    "sample_rate = 1 #seconds\n",
    "logger_rate = 60  #seconds\n",
    "  \n",
    "#---Delete all scheduled jobs\n",
    "schedule.clear()\n",
    "\n",
    "#---Placeholder for Sampling funciton. \n",
    "def job1():\n",
    "    dtm  = datetime.now().strftime(format = '%d.%Y.%m %H:%M:%S')\n",
    "    \n",
    "    t1 = round(random.uniform(55,60),2)\n",
    "    t2 = round(random.uniform(50,55),2)\n",
    "    t3 = round(random.uniform(53,57),2)\n",
    "    t4 = round(random.uniform(25,30),2)\n",
    "    temps = str(t1)+'\\t'+str(t2)+'\\t'+str(t3)+'\\t'+str(t4)\n",
    "                                          \n",
    "    with open(log,'a') as f: \n",
    "        f.write(dtm + '\\t' + temps + '\\n')   \n",
    "    \n",
    "    print(\"Time: {0}, Temperature (F): {1}\".format(dtm, temps))\n",
    "\n",
    "#---Placeholder for Logging funciton.    \n",
    "def job2():\n",
    "    print(\"Update Log\")\n",
    "    return('') \n",
    "\n",
    "#---Initialize Scheduler to call jobs\n",
    "schedule.every(sample_rate).seconds.do(job1)\n",
    "\n",
    "schedule.every(logger_rate).seconds.do(job2)\n",
    "\n",
    "#---Run Jobs\n",
    "while True:\n",
    "    try:\n",
    "        schedule.run_pending()\n",
    "        time.sleep(1)\n",
    "    except KeyboardInterrupt:\n",
    "        print('Process Terminated')\n",
    "        break"
   ]
  },
  {
   "cell_type": "code",
   "execution_count": null,
   "metadata": {
    "collapsed": false
   },
   "outputs": [],
   "source": [
    "#--Read in Data from most recent log\n",
    "\n",
    "cols = ['time','Forward','Main','Aft','Outside']\n",
    "df = pd.read_csv(log, sep = '\\t', header = None, names = cols)\n",
    "df = df.set_index(pd.to_datetime(df['time'],format = '%d.%Y.%m %H:%M:%S'))\n",
    "df.drop(labels='time',axis=1, inplace= True)\n",
    "df.head()\n"
   ]
  },
  {
   "cell_type": "code",
   "execution_count": null,
   "metadata": {
    "collapsed": false
   },
   "outputs": [],
   "source": [
    "#---PLot data from most recent log\n",
    "df.plot(x = df.index, y = ['Forward','Main','Aft','Outside'])\n",
    "plt.title('Pegasus Temperature Log'+ '\\n Begining {}'.format(df.index[0]))\n",
    "plt.ylabel('Temperature (F)')\n",
    "plt.xlabel('Time')\n",
    "plt.grid(True)\n",
    "plt.ylim((20,75))"
   ]
  },
  {
   "cell_type": "code",
   "execution_count": null,
   "metadata": {
    "collapsed": false
   },
   "outputs": [],
   "source": [
    "#---Read most recent log saved on github, look at last few entries\n",
    "\n",
    "cols = ['time','Forward','Main','Aft','Outside']\n",
    "url = 'https://raw.githubusercontent.com/slawler/DataAnalytics/master/SailTech/logs/Temperature.log'\n",
    "\n",
    "gitlog = pd.read_csv(url, sep = '\\t', header = None, names = cols)\n",
    "gitlog = gitlog.set_index(pd.to_datetime(gitlog['time'],format = '%d.%Y.%m %H:%M:%S'))\n",
    "gitlog.drop(labels='time',axis=1, inplace= True)\n",
    "gitlog.tail()"
   ]
  }
 ],
 "metadata": {
  "anaconda-cloud": {},
  "kernelspec": {
   "display_name": "Python [default]",
   "language": "python",
   "name": "python3"
  },
  "language_info": {
   "codemirror_mode": {
    "name": "ipython",
    "version": 3
   },
   "file_extension": ".py",
   "mimetype": "text/x-python",
   "name": "python",
   "nbconvert_exporter": "python",
   "pygments_lexer": "ipython3",
   "version": "3.5.2"
  }
 },
 "nbformat": 4,
 "nbformat_minor": 1
}
